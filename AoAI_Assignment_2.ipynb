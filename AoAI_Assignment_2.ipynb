{
 "cells": [
  {
   "cell_type": "markdown",
   "metadata": {
    "id": "IlPOneQRvGkr"
   },
   "source": [
    "# **Assignment-2: Car Reviews**\n",
    "# **Part-1**\n",
    "\n",
    "Naive Bayes Classifier Implementation with Bag of Words for Sentiment Analysis of Car Reviews "
   ]
  },
  {
   "cell_type": "code",
   "execution_count": 1,
   "metadata": {
    "colab": {
     "base_uri": "https://localhost:8080/"
    },
    "id": "iUZRbihqpndl",
    "outputId": "1d726109-7488-48c6-f293-7d6d87cc9594"
   },
   "outputs": [
    {
     "name": "stderr",
     "output_type": "stream",
     "text": [
      "[nltk_data] Downloading package punkt to /Users/ozgur/nltk_data...\n",
      "[nltk_data]   Package punkt is already up-to-date!\n",
      "[nltk_data] Downloading package stopwords to /Users/ozgur/nltk_data...\n",
      "[nltk_data]   Package stopwords is already up-to-date!\n",
      "[nltk_data] Downloading package wordnet to /Users/ozgur/nltk_data...\n",
      "[nltk_data]   Package wordnet is already up-to-date!\n"
     ]
    },
    {
     "data": {
      "text/plain": [
       "True"
      ]
     },
     "execution_count": 1,
     "metadata": {},
     "output_type": "execute_result"
    }
   ],
   "source": [
    "# import necessary libraries and download nlkt packages\n",
    "from sklearn.model_selection import train_test_split\n",
    "from sklearn.feature_extraction.text import CountVectorizer\n",
    "from sklearn.feature_extraction.text import TfidfVectorizer\n",
    "from sklearn.metrics import confusion_matrix\n",
    "from sklearn.metrics import plot_confusion_matrix\n",
    "from sklearn.metrics import precision_score, recall_score, f1_score\n",
    "from sklearn.metrics import classification_report\n",
    "from sklearn.linear_model import SGDClassifier\n",
    "\n",
    "from collections import Counter\n",
    "from nltk.stem import PorterStemmer\n",
    "from nltk.corpus import stopwords\n",
    "from nltk.tokenize import word_tokenize\n",
    "\n",
    "import nltk\n",
    "import copy\n",
    "import pandas as pd\n",
    "import seaborn as sn\n",
    "import numpy as np\n",
    "import matplotlib.pyplot as plt\n",
    "\n",
    "import ssl\n",
    "try:\n",
    "    _create_unverified_https_context = ssl._create_unverified_context\n",
    "except AttributeError:\n",
    "    pass\n",
    "else:\n",
    "    ssl._create_default_https_context = _create_unverified_https_context\n",
    "nltk.download('punkt')\n",
    "nltk.download('stopwords')\n",
    "nltk.download('wordnet')"
   ]
  },
  {
   "cell_type": "markdown",
   "metadata": {
    "id": "FatfUvbu8jXF"
   },
   "source": [
    "### **Naive Bayes Classifier:**\n",
    "For this assignment, I have used my own Naive Bayes classifier coded from scratch, its class implementation is provided in the cell below."
   ]
  },
  {
   "cell_type": "code",
   "execution_count": 2,
   "metadata": {
    "id": "ck3KWaUWTzx0"
   },
   "outputs": [],
   "source": [
    "# Multinomial Naive Bayes Classifier\n",
    "class NB_Multinomial:\n",
    "    def __init__(self, alpha):\n",
    "        self.alpha = alpha\n",
    "        self.log_class_priors = 0\n",
    "        self.log_class_conditional_likelihoods = 0\n",
    "        \n",
    "    # main function for training\n",
    "    def fit(self, X_train, y_train):\n",
    "        \n",
    "        # inner function to create class priors\n",
    "        def estimate_log_class_priors():\n",
    "\n",
    "            # create two arrays for two classes (num_C0: \"pos\" and num_C1: \"neg\") \n",
    "            num_C0 = np.count_nonzero(y_train == \"pos\")\n",
    "            num_C1 = np.count_nonzero(y_train == \"neg\")\n",
    "            \n",
    "            # find the probability of class priors and take their logarithms\n",
    "            # P(C=0) -- class_priors_C0, P(C=1) -- class_priors_C1\n",
    "            class_priors_C0 = np.log(num_C0/(num_C0 + num_C1))\n",
    "            class_priors_C1 = np.log(1 - num_C0/(num_C0 + num_C1))\n",
    "            \n",
    "            # create an array including all class priors with length two\n",
    "            log_class_priors = np.array([class_priors_C0, class_priors_C1])\n",
    "\n",
    "            return log_class_priors\n",
    "        \n",
    "        # inner function to create class conditional likelihoods\n",
    "        def estimate_log_class_conditional_likelihoods():\n",
    "             \n",
    "            #detect the number of words and assign this to k\n",
    "            k = len(X_train[0])\n",
    "                \n",
    "            # get row indices of each classes (0 & 1) within our data\n",
    "            indices_C0 = np.nonzero(y_train == \"pos\")\n",
    "            indices_C1 = np.nonzero(y_train == \"neg\") \n",
    "            \n",
    "            # create our data for each classes (data_C0 and data_C1)\n",
    "            data_C0 = X_train[indices_C0]\n",
    "            data_C1 = X_train[indices_C1]\n",
    "            \n",
    "            # calculate the frequency of each message for each of the classes\n",
    "            # within the whole training set\n",
    "            num_of_w_class0 = np.count_nonzero(data_C0 != 0, axis=0)\n",
    "            num_of_w_class1 = np.count_nonzero(data_C1 != 0, axis=0)\n",
    "            \n",
    "            # create an array for each class, that includes the probabilities of each keyword \n",
    "            # drawn from a bag of words and concatenate them into one array(theta)\n",
    "            prob_array_0 = np.log((num_of_w_class0 + self.alpha) / ((sum(num_of_w_class0) + k*self.alpha)))\n",
    "            prob_array_1 = np.log((num_of_w_class1 + self.alpha) / ((sum(num_of_w_class1) + k*self.alpha)))\n",
    "            theta = np.concatenate(([prob_array_0], [prob_array_1]), axis=0)\n",
    "            \n",
    "            return theta\n",
    "        \n",
    "        self.log_class_priors = estimate_log_class_priors()\n",
    "        self.log_class_conditional_likelihoods = estimate_log_class_conditional_likelihoods()\n",
    "    \n",
    "    # predict function to provide predictions for the new data\n",
    "    def predict(self, new_data):     \n",
    "        prediction_matrix = 0\n",
    "        # matrix product of new_data and the transpose of log_class_conditional_likelihoods (∑ 𝑤i * log(𝜃𝑐,𝑤𝑖))\n",
    "        # by doing this matrix product we can greatly decrease the complexity of computation\n",
    "        pre_prediction_matrix = new_data@self.log_class_conditional_likelihoods.T\n",
    "\n",
    "        # Here we add P(C=c) to the above matrix so that we calculate the predictions of n_test_samples for 2 classes\n",
    "        prediction_matrix = np.array([pre_prediction_matrix[:, 0] + self.log_class_priors[0], \\\n",
    "                                      pre_prediction_matrix[:, 1] + self.log_class_priors[1]])\n",
    "\n",
    "        class_predictions = np.where(prediction_matrix[0, :] > prediction_matrix[1, :], \"pos\", \"neg\")\n",
    "        return class_predictions  "
   ]
  },
  {
   "cell_type": "markdown",
   "metadata": {
    "id": "52qUh2zbvgz3"
   },
   "source": [
    "### **CarReview Classifier Class Implementation**\n",
    "In the below cell, I created a class for CarReview to read the csv file and to define the data_cleaning method"
   ]
  },
  {
   "cell_type": "code",
   "execution_count": 3,
   "metadata": {
    "id": "O2U3i4TiDCZW"
   },
   "outputs": [],
   "source": [
    "# create a class CarReview\n",
    "class Sentiment_Classifier:\n",
    "\n",
    "  # initialize and load file\n",
    "  def __init__(self, file):\n",
    "    self.file = pd.read_csv(file)\n",
    "  \n",
    "  def data_cleaning(self):\n",
    "    \"\"\"method for data cleaning\"\"\"\n",
    "\n",
    "    # convert all words to lower case (so, no case sensitivity)\n",
    "    df = self.file.apply(lambda x: x.str.lower())\n",
    "    \n",
    "    # exclude all punctuation and stopwords and apply stemming\n",
    "    tokenized_words = df[\"Review\"].apply(word_tokenize)\n",
    "    stop_words = stopwords.words('english')    \n",
    "    stop_words_dict = Counter(stop_words)\n",
    "    ps = PorterStemmer()\n",
    "\n",
    "    df[\"Review\"] = tokenized_words.apply(lambda line: \" \".join([ps.stem(word) \\\n",
    "                  for word in filter(lambda token: token not in stop_words_dict, line)]))\n",
    "    \n",
    "    return df  "
   ]
  },
  {
   "cell_type": "markdown",
   "metadata": {
    "id": "u5iWCcz7-cu0"
   },
   "source": [
    "### **Car Review Object Creation and Data Cleaning**\n",
    "\n",
    "Below I created CarReview object and called data_cleaning method to clean the data (exclude all punctuation and stopwords and apply stemming, convert all words to lower case to ensure no case sensitivity)"
   ]
  },
  {
   "cell_type": "code",
   "execution_count": 4,
   "metadata": {
    "id": "9xumDbsIDYqQ"
   },
   "outputs": [],
   "source": [
    "# create CarReview object as a classifier and load file\n",
    "car_review = Sentiment_Classifier(\"car-reviews.csv\")\n",
    "\n",
    "# demonstrate data cleaning, stop-words and punctuations are excluded\n",
    "df = car_review.data_cleaning()"
   ]
  },
  {
   "cell_type": "markdown",
   "metadata": {
    "id": "OwvGwuR3fFol"
   },
   "source": [
    "### **Demonstration 1: Excluding Words and Punctuation and Removing Case Sensitivity**\n",
    "\n",
    "Below cell includes the demonstration for the exclusion of words and punctuation ,which do not affect sentiment, from the classifier, and the remaining words are not processed in a case sensitive way.\n",
    "\n",
    "First 5 lines are from the original CSV and the last 5 lines are from the modified one. As can be seen from the two, words like \"In, The, My, I, As etc.\" were excluded from the text.\n",
    "\n",
    "Moreover, all words were converted to lower case so that there will be no case sensitivity in our classifier."
   ]
  },
  {
   "cell_type": "code",
   "execution_count": 5,
   "metadata": {
    "colab": {
     "base_uri": "https://localhost:8080/"
    },
    "id": "Jsonhj2vYksp",
    "outputId": "bf122353-e9a1-4f2a-da08-11e5809fdd64"
   },
   "outputs": [
    {
     "name": "stdout",
     "output_type": "stream",
     "text": [
      "0     In 1992 we bought a new Taurus and we really ...\n",
      "1     The last business trip  I drove to San Franci...\n",
      "2     My husband and I purchased a 1990 Ford F250 a...\n",
      "3     I feel I have a thorough opinion of this truc...\n",
      "4     AS a mother of 3  all of whom are still in ca...\n",
      "Name: Review, dtype: object \n",
      "\n",
      "0    1992 bought new tauru realli love 1999 decid t...\n",
      "1    last busi trip drove san francisco went hertz ...\n",
      "2    husband purchas 1990 ford f250 noth problem ow...\n",
      "3    feel thorough opinion truck compar post evalu ...\n",
      "4    mother 3 still carseat logic thing trade 200sx...\n",
      "Name: Review, dtype: object\n"
     ]
    }
   ],
   "source": [
    "# demonstration for the words and punctuation which do not affect sentiment\n",
    "# were excluded from the classifier, and the remaining words\n",
    "# are not processed in a case sensitive way\n",
    "print(car_review.file[\"Review\"][:5], \"\\n\")\n",
    "print(df[\"Review\"][:5])"
   ]
  },
  {
   "cell_type": "markdown",
   "metadata": {
    "id": "L2qN3zMYiYXK"
   },
   "source": [
    "### **Demonstration 2: Stemming**\n",
    "As can be seen from the below cell a proper stemming has been applied to the text and words with the same stem have been recognised and treated as variatons of the stem.\n",
    "\n",
    "First 5 lines are from the original CSV and the last 5 lines are from the modified one. As an example, when we compare the two we can easily see the below conversions indicating that the same stem have been recognized amd treated as variations of them.\n",
    "\n",
    "*   If we compare the second rows (index 1) we can see the below variatons.\n",
    " *   thinking --> think\n",
    " *   looked --> look\n",
    " *   comfortable --> comfort\n",
    "\n",
    "*   If we compare the third rows (index 2) we can see the below variaton.\n",
    " *   owned --> own\n",
    "*   If we compare the fifth rows (index 5) we can see the below variaton.\n",
    " *   logical --> logic"
   ]
  },
  {
   "cell_type": "code",
   "execution_count": 6,
   "metadata": {
    "colab": {
     "base_uri": "https://localhost:8080/"
    },
    "id": "Lbrg_OcC0gan",
    "outputId": "bb331e41-47a2-4b46-bf4f-1e4e503b95f8"
   },
   "outputs": [
    {
     "name": "stdout",
     "output_type": "stream",
     "text": [
      "0     In 1992 we bought a new Taurus and we really loved it  So in 1999 we decided to try a new Taurus  I did not care for the style of the newer version  but bought it anyway I do not like the new car...\n",
      "1     The last business trip  I drove to San Francisco  I went to Hertz Rentals and got a 1999 Ford Taurus  thinking it looked comfortable and professional  I found the seating to be uncomfortable for ...\n",
      "2     My husband and I purchased a 1990 Ford F250 and had nothing but problems  we have owned the vehicle approximately two years and it has spent at least half of that time in the shop The first probl...\n",
      "3     I feel I have a thorough opinion of this truck compared to most who post evaluations of their vehicles  My truck has been owned by me since new and currently have 75k miles  ive been meticulous w...\n",
      "4     AS a mother of 3  all of whom are still in carseats  the only logical thing to do was to trade in my 200sx for a minivan  As the minivan is only one of a handful of vehicles that have the room my...\n",
      "Name: Review, dtype: object \n",
      "\n",
      "0    1992 bought new tauru realli love 1999 decid tri new tauru care style newer version bought anyway like new car half much like one thee dash much deep take lot room find seat comfort way side stick...\n",
      "1    last busi trip drove san francisco went hertz rental got 1999 ford tauru think look comfort profession found seat uncomfort well passeng seat comfort may import fuel usag fine car get us problem u...\n",
      "2    husband purchas 1990 ford f250 noth problem own vehicl approxim two year spent least half time shop first problem valv cover leak problem took three day shop went pick found mechan dealership repl...\n",
      "3    feel thorough opinion truck compar post evalu vehicl truck own sinc new current 75k mile ive meticul mainten treat truck normal duti activ never exceed manufactur recommend inform regard vehicl ex...\n",
      "4    mother 3 still carseat logic thing trade 200sx minivan minivan one hand vehicl room famili requir addit bought new one mechan difficulti would minimum love fact van seat mani peopl never worri bri...\n",
      "Name: Review, dtype: object\n"
     ]
    }
   ],
   "source": [
    "# stem demonstration\n",
    "pd.set_option(\"display.max_colwidth\", 200)\n",
    "print(car_review.file[\"Review\"][:5], \"\\n\")\n",
    "print(df[\"Review\"][:5])"
   ]
  },
  {
   "cell_type": "markdown",
   "metadata": {
    "id": "dA8NtbQnrtvx"
   },
   "source": [
    "### **Demonstration 3: Vectors**\n",
    "In the cell below, a vector output of a small sample of reviews is shown. Each row represents one review as a vector and each element of a vector represents the number of times that a word appears"
   ]
  },
  {
   "cell_type": "code",
   "execution_count": 7,
   "metadata": {
    "colab": {
     "base_uri": "https://localhost:8080/"
    },
    "id": "GNebqxQCUuV4",
    "outputId": "07787bcd-c03e-4079-edcc-2f1cc6678100"
   },
   "outputs": [
    {
     "name": "stdout",
     "output_type": "stream",
     "text": [
      "[[0 0 0 0 0 0 0 0 0 0 0 0 0 0 0 0 0 0 0 0 0 0 0 0 0 0 0 0]\n",
      " [0 0 0 0 0 0 0 0 0 0 0 0 0 0 0 0 0 0 0 0 0 0 0 0 0 0 0 0]\n",
      " [0 2 0 0 0 0 0 0 0 0 0 0 0 0 0 0 0 0 0 0 0 0 0 0 0 0 0 0]\n",
      " [0 1 0 0 0 0 0 0 0 0 0 0 0 0 0 0 0 0 0 0 1 0 0 0 0 0 0 0]\n",
      " [0 0 0 0 0 0 0 0 0 0 0 0 0 0 0 0 0 0 0 0 0 0 0 0 0 0 0 0]\n",
      " [0 0 0 0 0 0 0 0 0 0 0 0 0 0 0 0 0 0 0 0 0 0 0 0 0 0 0 0]\n",
      " [0 1 0 0 0 0 0 0 0 0 0 0 0 0 0 0 0 0 0 0 0 0 0 0 0 0 0 0]\n",
      " [0 0 0 0 0 0 0 0 0 0 0 0 0 0 0 0 0 0 0 0 0 0 0 0 0 0 0 0]\n",
      " [0 1 0 0 0 0 0 0 0 0 0 0 0 0 0 0 0 0 0 0 5 0 0 0 0 0 0 0]\n",
      " [0 0 0 0 0 0 0 0 0 0 0 0 0 0 0 0 0 0 0 0 0 0 0 0 0 0 0 0]\n",
      " [0 0 0 0 0 0 0 0 0 0 0 0 0 0 0 0 0 0 0 0 0 0 0 0 0 0 0 0]\n",
      " [1 0 0 0 0 0 0 0 0 0 0 0 0 0 0 0 0 0 0 0 1 0 0 0 0 0 0 0]\n",
      " [0 1 0 0 0 0 0 0 0 0 0 0 0 0 0 0 0 0 0 0 0 0 0 0 0 0 0 0]\n",
      " [0 0 0 0 0 0 0 0 0 0 0 0 0 0 0 0 0 0 0 0 0 0 0 0 0 0 0 0]\n",
      " [0 0 0 0 0 0 0 0 0 0 0 0 0 0 0 0 0 0 0 0 0 0 0 0 0 0 0 0]\n",
      " [0 0 0 0 0 0 0 0 0 0 0 0 0 0 0 0 0 0 0 0 0 0 0 0 0 0 0 0]\n",
      " [0 0 0 0 0 0 0 0 0 0 0 0 0 0 0 0 0 0 0 0 0 0 0 0 0 0 0 0]\n",
      " [0 0 0 0 0 0 0 0 0 0 0 0 0 0 0 0 0 0 0 0 1 0 0 0 0 0 0 0]\n",
      " [0 0 0 0 0 0 0 0 0 0 0 0 0 0 0 0 0 0 0 0 0 0 0 0 0 0 0 0]\n",
      " [1 0 0 0 0 0 0 0 0 0 0 0 0 0 0 0 0 0 0 0 0 0 0 0 0 0 0 0]]\n",
      "(1382, 10977)\n"
     ]
    }
   ],
   "source": [
    "# vector demonstration for each review\n",
    "# each row represents one review as a vector\n",
    "# and each element of a vector represents the number of times\n",
    "# that a word appears\n",
    "vectorizer_demo = CountVectorizer()\n",
    "vectors_demo = vectorizer_demo.fit_transform(df[\"Review\"])\n",
    "print(vectors_demo.toarray()[:20, :28])\n",
    "print(vectors_demo.shape)"
   ]
  },
  {
   "cell_type": "markdown",
   "metadata": {
    "id": "CFr3njzPtCxz"
   },
   "source": [
    "### **Demonstration 4: Split Data into Train and Test Sets**\n",
    "In the below cell, data is splitted into randomly selected 80% train and 20% test sets.\n",
    "\n",
    "Afterwards, as also explained in the code, first X_train is vectorized and then X_test is encoded accordingly so that words which are not in training set are dropped from the test set. It is preferred to create a binary vectorizer for better classifier performance."
   ]
  },
  {
   "cell_type": "code",
   "execution_count": 8,
   "metadata": {
    "id": "_-knLzEACBgt"
   },
   "outputs": [],
   "source": [
    "# data is splitted into 80% train and 20% test sets\n",
    "# train set is also splitted into 80% train and 20% validation sets\n",
    "X = df[\"Review\"]\n",
    "y = df[\"Sentiment\"].to_numpy()\n",
    "\n",
    "# create train/test split with 80% train and 20% test set\n",
    "X_train_df, X_test_df, y_train_df, y_test_df = train_test_split(X, y, test_size=0.2, random_state=8)\n",
    "\n",
    "# first vectorize X_train and then encode X_test and X_validation accordingly\n",
    "# so that we dropped words which are not in training set from test and validation sets\n",
    "vectorizer_nb = CountVectorizer(binary=True) # create binary vectorizer for better performance\n",
    "vectorizer_nb.fit(X_train_df)\n",
    "X_train_nb = vectorizer_nb.transform(X_train_df).toarray()\n",
    "X_test_nb = vectorizer_nb.transform(X_test_df).toarray()\n",
    "y_train_nb, y_test_nb = y_train_df, y_test_df"
   ]
  },
  {
   "cell_type": "markdown",
   "metadata": {
    "id": "eeDIINChsoHZ"
   },
   "source": [
    "### **Demonstration 5: Naive Bayes Model Classification and Model Training**\n",
    "In the cell below, mutinomial Naive Bayes classifier which is coded from scratch is used for classification. First of all, the optimum alpha is calculated using cross validation algorithm and NB_classifier object is created and trained with only training data X_train accordingly.\n",
    "\n",
    "Since I already run this and decided that the optimum alpha is 1, I left the optimum alpha calculation as an option. If test variable set to \"True\" then the calculation can be observed accordingly."
   ]
  },
  {
   "cell_type": "code",
   "execution_count": 9,
   "metadata": {
    "id": "H78dOcyZByHV"
   },
   "outputs": [],
   "source": [
    "# cross validation function which returns cross_val_score for each fold\n",
    "# in case needed, to enable it please change \"test\" varibale to \"True\"\n",
    "test = False\n",
    "if test:\n",
    "    def cross_validation(classifier, X_train, y_train, num_of_folds):\n",
    "        cross_val_score = []\n",
    "        cross_val_predictions = []\n",
    "        classifier = copy.deepcopy(classifier)\n",
    "\n",
    "        # deep copy of X_train, y_train\n",
    "        X_train_copy = copy.deepcopy(X_train)\n",
    "        y_train_copy = copy.deepcopy(y_train)\n",
    "\n",
    "        # number of rows in one fold\n",
    "        num_of_rows = len(X_train_copy) // num_of_folds\n",
    "\n",
    "        # reminder for the last fold to be added\n",
    "        remainder = len(X_train_copy) % num_of_folds \n",
    "\n",
    "        # split the data according to data folds and compute cross_val_score and cross_val_predictions.\n",
    "        for i in range(1, num_of_folds+1):      \n",
    "            if i == num_of_folds:\n",
    "                X_test_data = X_train_copy[num_of_rows*(i-1):num_of_rows*(i)+remainder]\n",
    "                y_test_data = y_train_copy[num_of_rows*(i-1):num_of_rows*(i)+remainder]\n",
    "                X_train_data = np.concatenate((X_train_copy[:num_of_rows*(i-1), :], X_train_copy[num_of_rows*i+remainder:, :]), axis=0)\n",
    "                y_train_data = np.concatenate((y_train_copy[:num_of_rows*(i-1)], y_train_copy[num_of_rows*i+remainder:]), axis=0)\n",
    "            else:\n",
    "                X_test_data = X_train_copy[num_of_rows*(i-1):num_of_rows*(i)]\n",
    "                y_test_data = y_train_copy[num_of_rows*(i-1):num_of_rows*(i)]\n",
    "                X_train_data = np.concatenate((X_train_copy[:num_of_rows*(i-1), :], X_train_copy[num_of_rows*i:, :]), axis=0)\n",
    "                y_train_data = np.concatenate((y_train_copy[:num_of_rows*(i-1)], y_train_copy[num_of_rows*i:]), axis=0)\n",
    "\n",
    "            classifier.fit(X_train_data, y_train_data)\n",
    "            predictions = list(classifier.predict(X_test_data))\n",
    "            fold_accuracy = np.count_nonzero(predictions == y_test_data)/y_test_data.shape[0]\n",
    "            cross_val_score.append(round(fold_accuracy, 3))\n",
    "\n",
    "        return cross_val_score\n",
    "\n",
    "    # function to find optimum alpha\n",
    "    def find_opt_alpha(classifier, X_train, y_train, alpha_max, num_of_folds):\n",
    "        max_avg_cross_val_score = 0\n",
    "  \n",
    "        for alpha in range(1, alpha_max):\n",
    "            cross_val_score = cross_validation(classifier(alpha=alpha), X_train, y_train, num_of_folds) \n",
    "            avg_cross_val_score = round(sum(cross_val_score), 3) / num_of_folds\n",
    "\n",
    "            if avg_cross_val_score > max_avg_cross_val_score:\n",
    "                max_avg_cross_val_score = avg_cross_val_score\n",
    "                opt_alpha = alpha\n",
    "\n",
    "        return opt_alpha\n",
    "\n",
    "    # find optimum alpha using 10 folds cross validation\n",
    "    opt_alpha = find_opt_alpha(NB_Multinomial, X_train_nb, y_train_nb, 20, 10)\n",
    "    print(\"Optimum alpha is:\", opt_alpha)\n",
    "\n",
    "# mutinomial Naive Bayes classifier which is coded from scratch is used for classification\n",
    "NB_classifier = NB_Multinomial(alpha=1)\n",
    "\n",
    "# train the classifier with only the training data\n",
    "NB_classifier.fit(X_train_nb, y_train_nb)"
   ]
  },
  {
   "cell_type": "markdown",
   "metadata": {
    "id": "nRgvndwVKZ77"
   },
   "source": [
    "### **Demonstration 6: Confusion Matrix Demonstration**\n",
    "In the below cell, it can be seen that there is the code implementation for calculating the general accuracy on test data and the confusion matrix creation. Finally, a classification report is created for showing the metrics such as precision, recall and f1 for Naive Bayes with BOW algorithm."
   ]
  },
  {
   "cell_type": "code",
   "execution_count": 10,
   "metadata": {
    "colab": {
     "base_uri": "https://localhost:8080/",
     "height": 623
    },
    "id": "IGVYacVg2z7q",
    "outputId": "c295fe13-53ba-4388-8da0-d032598e6c1d"
   },
   "outputs": [
    {
     "name": "stdout",
     "output_type": "stream",
     "text": [
      "\u001b[1m X_test accuracy is: \u001b[0m 0.801 \n",
      "\n",
      "\u001b[1m Confusion Matrix with Naive Bayes/BOW is:\n",
      " \u001b[0m\n"
     ]
    },
    {
     "data": {
      "image/png": "[encoded data removed]",
      "text/plain": [
       "<Figure size 432x288 with 2 Axes>"
      ]
     },
     "metadata": {},
     "output_type": "display_data"
    },
    {
     "name": "stdout",
     "output_type": "stream",
     "text": [
      " # of True Negatives \t: 106 \n",
      " # of False Positives \t: 32 \n",
      " # of False Negatives \t: 23 \n",
      " # of True Positives \t: 116 \n",
      "\n",
      "\u001b[1m Classification report : \n",
      " \u001b[0m               precision    recall  f1-score   support\n",
      "\n",
      "         neg       0.82      0.77      0.79       138\n",
      "         pos       0.78      0.83      0.81       139\n",
      "\n",
      "    accuracy                           0.80       277\n",
      "   macro avg       0.80      0.80      0.80       277\n",
      "weighted avg       0.80      0.80      0.80       277\n",
      "\n"
     ]
    }
   ],
   "source": [
    "### confusion matrix performance of Naive Bayes Algorithm woth BOW ###\n",
    "\n",
    "# calculate test accuracy\n",
    "predictions1 = NB_classifier.predict(X_test_nb)\n",
    "accuracy1 = round(np.count_nonzero(predictions1 == y_test_nb)/y_test_nb.shape[0], 3)\n",
    "print(\"\\033[1m\", \"X_test accuracy is:\", \"\\033[0m\",  accuracy1, \"\\n\")\n",
    "\n",
    "# create a confusion matrix\n",
    "my_confusion_matrix1 = confusion_matrix(y_test_nb, predictions1)\n",
    "print(\"\\033[1m\", \"Confusion Matrix with Naive Bayes/BOW is:\\n\", \"\\033[0m\")\n",
    "\n",
    "df_cm = pd.DataFrame(my_confusion_matrix1, ['neg', 'pos'], ['neg', 'pos'])\n",
    "sn.set(font_scale=1.4) # for label size\n",
    "sn.heatmap(df_cm, annot=True, annot_kws={\"size\": 16}, fmt='g') # font size\n",
    "plt.ylabel('Actual')\n",
    "plt.xlabel('Predicted')\n",
    "plt.show()\n",
    "\n",
    "# precision, recall and f1 scores calculations\n",
    "tn1, fn1, fp1, tp1 = my_confusion_matrix1[0, 0], my_confusion_matrix1[0, 1], my_confusion_matrix1[1, 0], my_confusion_matrix1[1, 1]\n",
    "print(\" # of True Negatives \\t:\", tn1, \"\\n # of False Positives \\t:\", fn1, \"\\n # of False Negatives \\t:\", fp1, \"\\n # of True Positives \\t:\", tp1, \"\\n\")\n",
    "\n",
    "# classification report for precision, recall f1-score and accuracy\n",
    "matrix1 = classification_report(y_test_nb, predictions1, labels=[\"neg\", \"pos\"])\n",
    "print(\"\\033[1m\", 'Classification report : \\n', \"\\033[0m\", matrix1)"
   ]
  },
  {
   "cell_type": "markdown",
   "metadata": {
    "id": "m8zQpqYUwUgB"
   },
   "source": [
    "# **Part-2**\n",
    "**Improvement on the solution to Part-1:**\n",
    "In order to improve the performance of the classifier on sentiment analysis I have modified my classifier with the modifications as described below.\n",
    "\n",
    "> **Technique 1:** n-grams\n",
    "\n",
    "> I previously applied bag of words technique which uses single words based on unigrams in our Naive Bayes algorithm. As an improvement on my algorithm I applied n-gram technique in order to get more meaningful newly created features by combining N consecutive words with the purpose to extract more value from the data (Singh 2019).\n",
    "\n",
    "> **Technique 2:** TF-IDF (Term Frequency-Inverse Document Frequency)\n",
    "\n",
    "> In order to improve vectorization, I used TF-IDF which is a type of numerical statistic to indicate the importance of a word for a document in a collection of documents. The importance of a word increases with the number of times it appears in a document. TF-IDF is very popular technique which is used by around 83% of text based recommender systems (Singh 2019). \n",
    "\n",
    "> **Technique 3:** Changing the classifier to SGD (Stochastic Gradient Descent)\n",
    "\n",
    "> Islam and Sultana (2018) has studied on different machine learning algorithms for sentiment classification using unigram with TF-IDF. According to this study we can see that SGD outperformed Naive Bayes. Therefore, I decided to implement SGD and concluded that it greatly improved the accuracy when it is used with TF-IDF and unigram.\n",
    "\n",
    "In the below code I implemented the improvement mentioned above and outputted the old (Naive Bayes + Bag of Words) and new (SGD + TF-IDF + Bi-gram) confusion matrices and classification reports which give us the metrics such as precision, recall and f1. As can be seen from the below, general accuracy is improved from 0.801 to 0.838. We can conclude that the accuracy and also the other performance metrics such as precision, recall and f1 are all improved as expected.\n",
    "\n",
    " <ins>**X_test accuracy with SGD/TF-IDF/Bi-gram is:**</ins>  0.838\n",
    "\n",
    " <ins>**X_test accuracy with Naive Bayes is:**</ins> 0.801 \n",
    "\n",
    " >**Confusion Matrix with SGD/TF-IDF/Bi-gram is:**\n",
    "\n",
    "![image.png](data:image/png;base64,iVBORw0KGgoAAAANSUhEUgAAASgAAADECAYAAAAs9rxUAAAgAElEQVR4Ae2dB3gUx5bv9/veu3ff231v39t9u/a9tjH33r2LERlEEkGAJIQEApRAIJFssjGYYJIRYGyiCTZgko3ICAzGRIMJNjnnYIIBk2yTDCZJZM77/uXbc6ebqZkpqWdU0zr1fefr6erT1dWn+/ymuvp01T8QJ7YAW4AtoKkF/kHTenG12AJsAbYAMaD4JmALsAW0tQADSttLwxVjC7AFGFB8D7AF2ALaWoABpe2l4YqxBdgCjgVUbvYgYgmcDWq/HEMsgbeBCqIeXT9LMlEpRyddBhSDLE8gZzgFHk6wsUp6dPV7kolKOTrpMqAYUAwojVuDKrB49PNxkolKOTrpMqAYUAwohwDq4U/HSCY6QUelLgwoBhQDyimAuniIHkpEBQo66TKgGFAMKKcA6txeeigRnaCjUhcGFAOKAeUQQD04s5NkogIFnXQZUAwoBpRTAHVqKz2QiE7QUakLA4oBxYByCqCOf0sPJKICBZ10GVAMKAaUUwB1dB09kIhO0FGpCwOKAcWAcgig7h/6imSiAgWddBlQDCgGlFMAdXAl3ZeITtBRqQsDigHFgHIKoPYtpfsSUYGCTroMKAYUA8opgNq9iO5LRCfoqNSFAcWAYkA5BVA7sum+RFSgoJMuA4oBxYByCqC2zKH7EtEJOip1YUAxoBhQDgFU7sYskokKFHTSZUAxoBhQTgHUhmmUKxGdoKNSFwYUA4oB5RRArZ1EuRJRgYJOugwoBhQDyimAWj2eciWiE3RU6sKAYkAxoJwCqFUfUa5EVKCgky4DigHFgHIKoJaPplyJ6AQdlbowoBhQDCinAOrLEZQrERUo6KTLgGJAMaCcAqjFH1CuRHSCjkpdGFAMKAaUUwC18D3KlYgKFHTSZUAxoBhQTgHUvEzKlYhO0FGpCwOKAcWAcgqgZvejXImoQOH8+fM0cOBAatSoEYWFhVGDBg087r5p0yZKTEykUqVKUXR0NM2ZM8ej3vTp06lOnTpUunRpSkpKoh07dnjU85TJgGJAMaCcAqgZvSlXIp6cX5a3fv16ioyMpK5du1JCQoJHQB04cIBKlChB/fv3p507d9KkSZOoePHilJ2dbSoWcCpZsiRhCTD16NFDAO3EiRMmPdkKAyoAgDo35R0a1KIBpUZFUJkSYVSsWDE6PanncyD4dfYAGtqmEVWrUIZKlwgT+luHd3pOLzd7EJ2b+g71blqPIsqXoZJhxal25fI08o3GHnWhH2jRcerz3un9aP+2A3Tj6g16+OAhXfv5Gm1csYla136DjPoO6jCENn+1hS5fukIP7j+gC2cu0ryJ2RRfrKFLx9DVYSlzXE/5udN7kUw86cvynj596trUt29fj4Bq27YtpaamuvTwIzMzk6pXr07G/g8fPqTw8HAaNWqUS+/JkycUHx9P3bp1c+V5+8GACoAzbx7WkaqWL02v169FreMjpYB6O6UuVShdkub2yqCNQztQp0ZRAlQHxnY1AQZwqx5elppGV6Ol77ahLcM70cI+LWl0u0STXqCh5F6+Ds5rrcP7bw6jBVM+J0Do7ZSeNKzbSDp38hzdu3OP0iqnCwB9t/+4gNbQt4YLnYmDJtHdW3cJ+XVeqasdpLw5r3VbzrTuJBOrrr/rngAF8KBVNGPGDFMxu3btEvf6kSNHRD5aVvhzPnbsmElvwoQJVK5cOXr27Jkp39MKAyoAgLo3b6ALHPN6ZXgE1MFxXUV+du8WLt07czOpbkQ4tU+o7coDFNrER1JS7ap0e26mKd8dGMH+bYWDrusta7YR9/2kIVMFfBqXTnkOQsO7jRQ6PZq889y2gj4vT04ry8uZ/BbJRLaPr3xPgDp9+rS4dzdv3mza/caNGyJ/2bJlIn/evHli/f79+ya91atXi/zLly+b8j2tMKACACh3WMgA9XHHZCpRvDjdmPWuCTpj2ieJR7hbcwaI/FOf9BAXc1HfliY992MUxO+Cdlx/j9+oVLK479FSku3TqtYbQgctLplOQeV7clpZXs6EziST27dv06VLl54T5HtLngC1b98+cU8ePHjQtOvjx49F/uzZs0X+5MmTRX+TSYmItm/fLvT86YdiQBUQoLomxYjWkhUueIRDs/jIx28LIH3ep6VYXz7gdWoZV1PAK7xMSeqZGks/T+9bYNAqKIf157hRRWIp5k9xlFGjtehv+uXKL5RYJlUKn7F9PxY+1CH+TamOP8cNhI7Vub2t53zUgWSCxyrcV1ZBvrfEgCKijh07SqVz587Up08fmjlzJt28edObLU3brI5fUOuyFlSruJqUUifiOcB8+0EHcRNtG/FbZ/knnVPFevlSJSgzoz5tGtqR5vRMp0plS1FirSrk/jgZzHMMhDPaVebJQ6dc98KlH34ktJBkZaeGp9HN6zdp7+Z9Uh3ZvsHId52IHz9yRrclmdjZglJ9xHvw4IGp9iH3iNeiRQvR+//aa69RTEwMpaWliSXWa9SoIWItypQpQxEREQTj+JOC6azejpVfQE3olCIAZe2XMlpa64a0ew5y3upj17ZgOGdejwEgdU54i9BpfurwKfE2L61KxnMAivuvBALMrl/+hVIrNntue16Pb+d+/tzrhk7OyDYkE0NHdempBWV0kqPR4J52794t7lVrJ/l3333nrkYTJ06k8uXLh04nOeIuYmNjyfpMevz4cZG/Zs0aunLlinjdidaWP8kuR8xvOTJAvZUU7dcjHlpLaJZnvd3MBKIrWf1EPgCW3zrmZX87nTCQZTUIayze0i2fs9IEoNj/rE8Hth+k27/eptej25m2BbI+qmX7c68bOveGtiSZGDqqS0+AQhkIM2jatKmpOAR3egozGD16tEsPYQb169cPrTADRKquWrXKdRLuP1asWEH16tUTWUuXLqWKFSu6b5b+zovTBWIfGaA+6uC5k3yspZN8+4jOXgGFR8BA1NtXmaqOVpD6aCXt27LfBaHoovVo54ZdlHM3hzo37OrKL8g6yo4tvcE9bLg3JJ1k4kFdmpWbm0toFEDwdFOrVi3X+o8//ij2MwI1BwwYQAgvQIe4t0DNrKwsEdDZs2fP0AvURAj8t99+69FgGzZsECHy2IgmJHT9Sb4cLFjbZYBCrBNaRohnMuqCMIN61SpSO7cwA+QhkLNtA3PowZL+rcX+iJ8y9g/mUuZQuuUnlU2l3Hu5tGLuby0oxDoheBNBmj2b9tYaTrClSro3uBnJRKUcvO2zdqYb60uWLHEVhU9d8DkMYqLwKYvx9s6l8LcfiCKvXbu2AFNIfuqCSjdv3pxycnJM53bv3j3RH5Wc/Nur4pUrVwpDmJQkK8F0Vk/Hwls3yID0+uJiz+rRXKwjyNLQx5s8vJEDxACaNxtHUamw4rR/zFsuHegCYrhB3m0eTxveb08zuzcX+6XH1qCc+X+PuTLKDcZSNxChPlvWbKWsD2fSgNcHUvcmvWhsn4/owukL4hGvRY3WAkbLZq8Qd8ycj+eJ1hNaUIbo2A8lub09Zt/LbEIy8bhDCGRqEWaAuApEluLxrUuXLuJDRSwRJo/8/fv3C1OOGTOGRo78LajOl22D4aTejmH841iXzetWd8Hn5ux36f1WDcXnKwBTcp2qhCh0T+UiDiq+eiURZoAWFT6l+WVmf4+6nva3O09HQE0d9pnoFEdk+P3c++IzFrSc3DvIL1+UBwfOHDtbuxaVr/vcffvdfskkE3e9UPqtBaBgsGvXrolvdlq2bElxcXGE5Ycffijy82JQux2SyzN/36cjoJxYJ5V7/+47iSQTlXJ00tUGUHYbhYFiBord9nAiDHQ8JxW/uNujIclEpRyddLUC1E8//UQIOUBnG77rQUJ4gfVbHn8MaLdDcnlm4OnozE6skz/3uqFzp2sDkomhE2pLLQCFwK9BgwaJtwEIzsTrSuMLaESSo+9JNTFQzECx2x5OhIGO56Ry39/pHEcyUSlHJ10tADVixAiqXLkyffXVV6LlBEgZgPr888/Fq0xVo9ntkFyeGXg6OrMT66Ry39/uEEsyUSlHJ10tAIXo04ULFwq7INLUHVAYhQ9v81QTA8UMFLvt4UQY6HhOKvf97TdiSCYq5eikKwUUAq+ioqKUBOMS5yUh+BJDMCBZAYVgMIQaqCa7HZLLMwNPR2d2Yp1U7vtbbaJJJirl6KQrBRS+wenXr5+y5OXkGjdu7IpvsgIKw4Xi42HVxEAxA8VuezgRBjqek8p9f6tFFMlEpRyddKWACmYlMQIfBmAfO3Ys4QNhPOLhbR5micAoBmvXrlWujt0OyeWZgaejMzuxTio3/q/NapNMVMrRSVcLQMEgCC2oUKGCeIMHQEHwaDdr1qw82YuBYgaK3fZwIgx0PCeVm/9mai2SiUo5OukqA+rRo0d08uRJ2rt3L+3Zs+c5yc/J4du7bdu2EUYwwHjHd+/ezXNxdjskl2cGno7O7MQ6qTjAjcRIkolKOTrp+g0ozMCARzAMNIU4JZnk9eTwoTBGLsBA65gtwl2sA2P5cwwGihkodtvDiTDQ8Zz8udcNnV8SIkkmhk6oLf0G1LRp08RjFwalWr58ufj92WefEeKUGjZsqDxjqLuh0BpDHJTxaGddAoaqyW6H5PLMwNPRmZ1YJ5X7/npcJMlEpRyddP0GFEa8xEyjSBgbHBAxpjBGJDjGhfn4498Gn1c9QUyf3KRJEzGiJh4h7UgMFDNQ7LaHE2Gg4zmp+MK1mEiSiUo5Oun6DSjMv25Ma4wB2AEoxCgZyRiUylhXWZYtW5a2bNmisotPXbsdksszA09HZ3ZinXze6G4KV6MiSSZuaiH1029AIdrb6AvC1MYA1oIFC1wnO3fuXAJo8pIwYB06xu1MDBQzUOy2hxNhoOM5qfjElVq1SCYq5eik6zeg2rRpQwjeNFJ6erp4rMPsoBiFICEhQfRDGdtVluiDQj+WvzO2+FO23Q7J5ZmBp6MzO7FO/tzrhs7P1WuTTAydUFv6DSiMRZySkkLGHFeACj5RMd7moUWV18c0wK1KlSoUFhZGkZGRAnbIMwTwUk0MFDNQ7LaHE2Gg4zmp3Pc/Vq1DMlEpRyddvwHlqdIXL14UgZR4vDt37pwnFb/y/Pmsxq+C3JTsdkguzww8HZ3ZiXVyu6V9/rxYMYpk4nNnTRXyBShNz0lUi4FiBord9nAiDHQ8JxUfO18+mmSiUo5Ougyo7MA6st1g0KU8HZ3ZiXVSgcUPZWJIJirl6KTrN6AQVmD0N3lb6nJyujiyU+vhRBjoeE4q/nSmZCzJRKUcnXT9BtSECRPEnOqYV90QBGb27t1bfP6CueuQr0tyKhh0OS8dndmJdVLxp1PF65FMVMrRSddvQHmr9NWrV8XMoZhYU5ekiyM7tR5OhIGO56TiTydfiyOZqJSjk64tgMIJTZ06leLj47U5N6eCQZfz0tGZnVgnFYc6/td4kolKOTrp2gYojOeEuChdki6O7NR6OBEGOp6Tij8d/XMDkolKOTrp2gKoU6dOUUxMjIgG1+XknAoGXc5LR2d2Yp1U/Olw0QSSiUo5Oun6DSjZJAqVKlUSb/cw+qUxuoEOJ6iLIzu1Hk6EgY7npOJLB4o0IpmolKOTrt+AkkV7Y047DDL366+/6nRe9N9+9xJLAG3w6PpZYgm8DVScau/LjUkmKuXopOs3oHSqtD91YUAFFtAMp8DDCTZWSbv+mEQyUSlHJ12/AYUpqA4dOiSt++HDh8UUVVKFIG9gQDGgnABRFbfZ/odkkolKOTrp+g0oRJJ7G7MJ05bnZWjeQBmDAcWAKmyA2vZiCskkUH4W6HJtAxT6oTCHnS6JAcWAKmyA2vxiKslEF79UrYdXQGFaKeOzFrSgMCa5se6+HDZsGGHEzaZNm6oeP2D6DCgGVGED1DcvNCGZBMzRAlywV0ABQgCT8aGw8dvTEoPLoR9Kl8SAYkAVNkCte6EpyUQXv1Sth1dA3b9/X8zgcuPGDQGphQsXinXM6mIIwguMUTZVDx5IfQYUA6qwAWrNC2kkk0D6WiDL9goo9wP/+OOPBGCFSmJAMaAKG6BWvdCMZBIqfmutp9+AOnPmDC1btsy6v2sdk3lCR5fEgGJAFTZALXuxOclEF79UrYffgOrcuTO1b99eWn7Hjh2pS5cu0u3B3sCAYkAVNkAtebE5ySTY/mfX8fwGVLVq1QiTc8rSjBkzxJs82fZg5zOgGFCFDVCL/pBOMgm2/9l1PL8BhWml5s+fLz0u4qCgo0tiQDGgChugFv4hnWSii1+q1sNvQMXFxVGPHj2k5Xfv3p1iY2Ol24O9gQHFgCpsgJr3xwySSbD9z67j+Q2oSZMmiU9Z8Cj3+PFj1/HxOysrS2zDuOW6JAYUA6qwAWr2SxkkE138UrUefgPq0aNH9MYbb4h4qMqVK1NaWpoQ/EbgJqZGf/jwoerxA6bPgGJAFTZAzXgpg2QSMEcLcMF+Awr1ePbsGWEKdLyxw/jjEPz+8ssvxbbz588HuLr+F8+AYkAVNkB9+nIGycR/z9FLUwlQnqqOKHNMfd6kSRMezSCAA8TpBlwnOH8onIMnn5PlTXklg2Qi20f3/DwBChHlmGIKcVElS5YUj3joIB81apQ256ubQzutPqHg3E6oo4pDTXwlg2SiUo5Oun4DCo93W7dudU3UaXxAnJmZSWfPqo38FwwDOA0Iup2PE5w/FM5BxVc+LpJBMlEpB904xYoVe06GDBliKmbTpk2UmJgowouio6Npzpw5pu12rPgE1NGjR8kYTgVQQksJb+s2btwoWk5r1661ox62l6GbQzutPqHg3E6oo4pjjCmSQTJRKccA1JYtW+jgwYMuuXTpkquYAwcOUIkSJah///60c+dOMt7yZ2dnu3Ts+OEVUIh9wiiZtWrVopEjR9KxY8dcx7xw4QIDqhD1OVkB6wTnD4VzcDmcHz9GF8kgmfixu0vFABT6l2Wpbdu2lJqaatqMpymMC/f06VNTfn5WvAIKLSY03VavXv1cCAEDKrBvyaxA0G09FJzbCXVUce4Rr2aQTFTK8QUohBOh7xkxke5p165d4rHwyJEj7tn5+u0VUIsXL6ZWrVpRWFgYVahQQfQ/4bnzyZMnxIBiQDkBALqfg4p3D301nWRy+/ZtwiOaVZBvTQag8P0tnqAwJyYGrzQCtE+fPi1AtHnzZtOuaHGh78rbqCemHfxY8QooY/8rV67Qp59+KmYORquqSpUqYvhfVH7dunWGmlZL3VocTquP7o7tlPqpONWQV9NJJug39tTx7enrD/Q9AUgA0LZt22j48OGikYK5MZH27dsnykL/lHsCwHCM2bNnu2fn67dfgHI/wokTJ0Q4AfqlAKuIiAgx3dT69espJyfHXbVAfzsNCLqdj1MAoPt5qDjRwKLpJBOVFpSnYwJYgA+enLQGlFF5hB2g9x7z5YWHhwtY8awuheexT3fHdkr9DH/zZ/lu0eYkE3/296aDwSgBKPRHa/eI563i2IZOM8yL16lTJ1+qQduuW4vDafVxCgB0Pw8Vh+lTtBnJRKUcT7rugDI6yWfOnGlS3b17t4BY0DrJTUcPsRXdgPDqn8Jp4idZtHPnPsrJyRXW/MtfK5N7Pf/8n5Vo+Yqv6fz5S5Sbm0vXr9+gzZt3UELDFiY9930K6ndBO/bF73bRe/17UZOkRlSmdGnhGOeO7CD3eh3Ysobefacb1YuJEjqRNatTjy4d6IfD2016xj6Xju+mPj26UETVKlSyZAmqU6smjXo/06OusU+glypu16toM5KJSjmedMePHy+eki5evCg2I8zAOs3cwIEDgxtm4KmioZJXUI4rO25UdApduXKNVq/eQGvXbhRmtAKqdNnalDUjm1q16UrRMamUmNyGVq1aL3RTmrTVClKBdkxf5W9bu5SqVqlMbVulU5sWzTwCatjgftQ0JZHmTBtP29ctpaXzp1O9utFUqWI4XTi2ywQewK1GtQhKS02kFQtnCv3Fs6fS2GGDTXq+6mX3dhV/61E0jWSiUg5GLZk2bZoIxsZb+w8++EB0kg8YMMBVjBGoiTyEF0yePFm88QtqoKarNiH4QwaKgsr/779/2QWY9h16CYtaAeWpbr//H0Xo4sWfaOWqda79PekFO89uR1Qt78HV0y5wZGdN8gioK9/vd+kY5Z8/ukO0BMYNN4Pn9ZbNKblxAuVcPvXcPsa+BbFUcb1uRdNIJirlDB06VHwxUrZsWRHv1KBBAzHmG8KL3BPg1ahRI6GDUAQ7394Zx1F+i2fsqPsy2A6rcjwVQKHco8dO0NJlqxlQ1896hIcMUDKgoOXVt+dbrrLOHNwqAPfF3E9debJ9g52v4mddijYlmaiUo5OutoBCpxxCF65evZone6kAI9i6vgCF1hZaTi+9UpYGv/eheAlRN7YpA8oGQJ3Yu1HAaNr4US4YLZ4zTeStWjSLWqWnif6niuEVqFe3znTtzEGXXrDhhOOppE5Fm5BMVMrRSVcLQA0ePJggRsIbQXyIiDgrhDDkZUr1YENH5Xi+ADV27BTDFHTnzl3Srf8J51oQzio7pr8tqNzL31N602SqWrkSXT97yHUOk8eNEIAqX64sDerXk7Z+vYTmT58o+qoSGzYg98dJWR0Cle+6Efz40a5oKsnEj921VNECUHh+XbFihctAGDEBkzDgjQFCF9Bpp5pUgBFsXV+Awhu/ylXiqFHjVrRo8QoxozN+B7ue3o4XKIfMS7n+AmpA7+5UIiyMNq5a5IITjvfJmGECUB1eb2nKX75ghsj/ZsVCU35e6pjXfVTu+9eLppBMVMrRSVcLQJUuXZr27t0r7IJhg9Fy+u6778Q6wu4x7rlq8uZcBb3NF6Cs9du0aTudOHmaAZWPR7xR7w8Q95WnfqZ5n/0WJT1z8jgTiNDKQnAiAJZXwOR3P5X7vlXRZJKJSjk66WoBKHyUuGbNGmEXzL2Hb/2MtH37dipXrpyx6vfS6uQ6rasCCo98+M5Jp3PIr+PZub+vFtTEMUMFaGZN+cgjaHZtWC62ywCFR0A766tSlt83PBFlvJokFZVydNLVAlB4nMMEDJj8E4977vEWyKtfv76yzXRyZmtdVACFDvNdu/bTyVNnGFB5aEHNmDzOZysIfVPVIqpQuzYtTCBalp0l9t2y5gtTvgpg8qurcuM3e7UxyUSlHJ10tQAURkvAsC5oKWVkZND169ddNsJkDIhQVU1WKOiw3iStPUGmTP3ta+83u/QT63WikgV8hrw/hiZMnE7N0jsR8rBct26TGACseUYnBpQFUHjrBsns012AZM6n48U6gjIBhmULssRj3Rut0mnvxlUmObHnWxN0EJSJxzn0U6GPCsGdeJOXkZZKD6+dMenmFzoq+6vc901fbUwyUSlHJ10tAOXNIHfv3n1usDxv+sY2HYBkrYNRN+sSfUzQbZzUmr79dhtdvXqdHjx4ID55WbFyLdWMbKQVnFBXFScLlC6A4knS01JE/Xq//abH7djH0HGvG/qn6terK8IM0KLCpzS3Lhwr0HO13ive1lNebUgy8bafztu0AhS+P8NQDt98841YYvaYvCYrHHjd3pEW3B2bf3sOILXDLir3f2KRBJKJSjk66WoDKHzLU758efE9D97iQbA+ZcrfY4JUDMdAshdIVnva4Xxchm+wqdzzCUUakExUytFJVwtAYdgGjM753nvv0Z49e8Q0VlhiHcMNz5o1S9lmVofidXuBxXDxDRc7bKRy48cXiSeZqJSjk64WgKpbty6NGTPGo12Qj+2qiYFkL5Cs9rTD+bgM35BTue9jX4kjmaiUo5OuFoAqVaoUId7JU8KYyNiumqwOxev2Aovh4hsudthI5b6PfiWWZKJSjk66WgAKU1thQCxPCYO6R0VFedrkNY+BZC+QrPa0w/m4DN+Q83qTWzbWfjmGZGJRDZlVLQCFjnB8HIzHOXzighEMjh8/TmPHjhVjzUydOlXZoFaH4nV7gcVw8Q0XO2ykcuPXejmaZKJSjk66WgAKEzCMGDFCwAid5RC8xcPkgJjROC+JgWQvkKz2tMP5uAzfkFO592u8FEUyUSlHJ10tAGUY5ObNm4RR+pYvXy6WWM9rsjoUr9sLLIaLb7jYYSOV+7/qS7VJJirl6KSrDaAwK+m4ceOodevW4ts7LLHubX54b4ZkINkLJKs97XA+LsM35Lzd49Ztlf4YSTKx6obKuhaAwgylGJgO3+Jh/KfMzEyxxDqmXLfOYOqPca0Oxev2Aovh4hsudtjIn3vd0An/Qw2SiaETakstAJWUlERpaWlknSf+1q1bhI+Fk5OTle3KQLIXSFZ72uF8XIZvyKnc+OVerEYyUSlHJ10tAIUB6/D9nae0YcMGwnbVZHUoXrcXWAwX33Cxw0Yq933pF6uSTFTK0UlXC0AlJCTQsmXLPNpl6dKlhGlvVBMDyV4gWe1ph/NxGb4hp3Lfl3ihMslEpRyddLUA1NatWwnBmpg62T1hQkDkY9hf1WR1KF63F1gMF99wscNGKvf9a/9RkWSiUo5OuloACi0ojDuO+KdKlSqJSQOxxDrysd2Qhg0b+mU/BpK9QLLa0w7n4zJ8Q86vm/1vSv/17+EkE5VydNLVAlB9+/alfv36+S3+GNDqULxuL7AYLr7hYoeN/LnXDZ2//L/yJBNDJ9SWWgAqEEZjINkLJKs97XA+LsM35FR840//VoZkolKOTroMqN8F1pGtju2UdYaLb7jYYSMVWBT511IkE5VydNJlQDGg8jTeuR3Ox2X4hpwKLF76vyVIJirl6KTLgGJAMaAss8XoBE4VWLz4f4qTTFTK0UmXAcWAYkA5BFD//i/FSCY6QUelLgwoBhQDyiGA+tf/9VeSiQoUdNJlQDGgGFAOAdS//PNfSCY6QUelLgwoBhQDyiGA+t//9GeSiQoUdNJlQDGgGFAOAdQ//c+iJBOdoKNSFwYUA4oB5RBA/eM/FiGZqEBBJ10GFAOKAeUQQP3u9y+TTHSCjkpdHIRj9I4AAAodSURBVAsoFSOwLluALaCnBRhQel4XrhVbgC1ARAwovg3YAmwBbS3AgNL20nDF2AJsAQYU3wNsAbaAthZgQGl7abhibAG2AAOK7wG2AFtAWwswoLS9NFwxtgBbgAHF9wBbgC2grQUYUNpeGq4YW4AtwIDie4AtwBbQ1gIMKG0vDVeMLcAWYEDxPcAWYAtoawEGlLaXhivGFmALMKACcA9gpuQGDRrQnj17KDExkcqUKUONGzcW6+6HW7ZsGTVq1IhKlSpF1apVo+HDh9PDhw/dVWjfvn2UlJQkdOLj42n9+vXUokUL6tChg0mvMK4Ydt6yZQslJCQIG8FWBw4ccJnj6dOnNGXKFIqKiqKSJUtSTEwMzZw507UdP65cuULdu3eniIgIUUadOnVo4MCBJh1eKRgLMKACYHc4TuXKlYXTLF26lDZt2kSpqalUqVIlunv3rjji7NmzKSwsTEBp69atlJ2dLba7O8bVq1epXLlylJaWJsC0YsUKqlu3LlWvXp0BRUSGnQGUL7/8UtioSZMmVL58efrll1+EnUeMGEHFixencePGEez84Ycf0muvvUaffPKJ68q3atWK6tWrR1999RXt3r2b8Mfhfh1civwj6BZgQAXA5HAcOMHJkyddpR8/fpyKFSsmnAiQghPBWdzTqlWrBLQuXbokskeNGkUVKlRwQQ2ZRjncgvoNULDpjh07XGa8deuWgPqYMWPoxo0botUEO7qnwYMHC5179+6JbPwJzJkzx12Ff2tiAQZUAC4EAFWjRg1TyXh0gzPNnTtX/JPj97Fjx+jx48cugUMhf+3atWJfPMp17tzZVA5WoqOjuQX1txZUeHj4c/bp2LEjtWzZkjZu3CjsefToUZMOWkmw8969e0V+eno61a5dm+bNm0fnzp0z6fJKwVqAARUA+wNQ6IOyJjjF9OnTafny5cJBsO5JjD4SPHYMGDDAWgw1bdqUAfU3QOGR15pgs7i4OPGoBvuij8k9nTlzRtgd/XlIeJTu37+/eCyHPspEa5ZTwVuAARWAa+ALUOiTgiOgpXTkyJHn5Pr166JW3ILyfnFgZ28tKMPOaKm6J2sLytj27NkzQmurW7duot/q9OnTxiZeFpAFGFABMLwvQN25c0f0gcyaNcvr0dF3gr4qo2MdytwH9XeTwc4Ava8+qNGjR/99JyJ67733hP1zcnJM+cbKxYsXXX8gRh4vC8YCDKgA2N0XoHBIPMYhvGDkyJHiLd/27dvp888/p06dOtHly5dFrby9xUM/S2FPsDPelhpv8TZs2EB4i4dOb6MVCvviben48eNF3x86z93f4uHPAm9Y0Te4bds22rx5s7gG+GOwPhoWdnsXxPkzoAJgdX8AhcOuWbNG9CchTgoOgVgevNlz/2dHRy5iexDDExsbK16FI6bqnXfeCUDNQ6tIw854lKtfv76wEeLOEDtmJMRBTZ48WUAMNsQLhhkzZhibRdxZZmam6LPCdUAoSJs2bUyxVC5l/hF0CzCggm7y/B0Q/+qlS5emrKys/BXkgL0NQDngVPgUJBZgQEkMo0s2+k8QoLlr1y5C0CdaCnisQUhCYU8MKOffAQwoza8x+lAQo4PHEwRttm/fnk6dOqV5rYNTPQZUcOxckEdhQBWk9fnYbAG2gFcLMKC8moc3sgXYAgVpAQZUQVqfj80WYAt4tQADyqt5eCNbgC1QkBZgQBWk9UPk2PjkBmIkjLaACO4lS5YYWQW+nDBhgqhTgVeEK2CrBRhQtpozMIUBBACCIYiMrlmzJvXr1y8o0c52AQrftgEkxnAydlqLAWWnNfUpiwGlz7WQ1sQA1MSJE8UX+osWLRJwwkBsGCkyNzdXuq8dG6yAwke1Dx48oCdPnigVj8h5QBYxXXYnBpTdFtWjPAaUHtfBay0MQB08eNCkh9Ei4fArV6405Rsr7p/MGHl5WVoBlZcysA8DKq+WK7z7MaBC4NrLAGUMyIYxtxG0iI+P8fiED4nxbZ97vxGi0ZOTk8VnMhUrVqSuXbsSvtq3poULF4rv1fA5TUpKihjUzQooWR8UPm7GULl4/ERgKT7ixdhMGI3BOAfjMdVYIt9Ihw8fpnbt2omAVBy/WbNmtHPnTmOza4nvE3EuOF98W7dgwQLx6IgyOTnLAgyoELiehnNbW1AY1xxOCQcFoIwPinv16iXy8CiING3aNPEFP8Y5wqiR+HgW45pD3D+ZgT7KwxjoKBstNHw8Cwi4w84ToK5du0aRkZECgB988AEBdHjsatiwoYAmYIh8lI/xwTHuN8SAJMZoAnAwGgG+M8TxAaESJUqYHgkxjDI+6kV0Pc7LOBcchwEVAjezYhUZUIoGKwh1A1CYvQRAwXAsGOAf3+TBWfEBMQAFB8XMMO7pp59+Ek6O/iv3dOHCBQGEsWPHiuxHjx6JWU0wUoL7zDKLFy8W5foCFI6PPrFDhw65H0b8Rp8VkuwRD9sxemjr1q3J0IU+6oFvDwFMI7355pui3jgvI/3www/iHBlQhkWcs2RAhcC1NAAFB3QXOK8xWJsBqPPnz5vOCONOYZ+zZ88KuAFwhqCFguGDkTBVE/TQwnJPGDMdj4TeAIUhTfCdoK+JHGSAMgbhAwyNuhnLoUOHCvDhRQA65QFktAStCcdG/Tk5ywIMqBC4ngagMPMIBrZDHwxaEO6tDaMFA6C4J8xg4g416288viFhDG5sw6Bt1oQxlrwBCoPDYV/ryJXWcmSAQmvQWi/r+s8//0x4jEQ+HhGtCS1HbOPkLAswoELgehqAsvZBuVcdgEIfjjWh0xqOi5EiATerGIO7FSSgjGOjT8laP2MdYQ0MKOvVdf46AyoErnF+APXZZ58JQPmaACAYj3hff/21qIs1Dgpv7wBR6+Ol9dLwI57VIs5fZ0CFwDXOD6DwlgyR55ja2/2R0Dht9PUgoZO8atWqYor2QHWSoxUHEK1bt844vFiiDwtTPWFacvcJIgwlo45YRyc5QhC4k9ywjrOXDKgQuL75ARROD3PxAQzoEMdjFMIS0F+EueMQCmAkhAZAD2/N0N+lEmaAGChMVgp4oGMbZWF6cbwVND5tQV8VYIn4qi+++EL0exlhBnv27BEd4AhVwAQHmEACbx4xAad7/9eJEyfEMYwwA8SAIVyCwwyMq+isJQMqBK5nfgGFU8QklRkZGWLGk7Jly4oJGAYNGkTff/+9yQLz588Xn8+gPwtv+dAhD0C4Q8JTHBQKQfgDvg+MiIhwBWqiD8yYYhw6ABNaSwAVYIhzMxLggwDSKlWqiP0BIayj5eWeADNjIgkO1HS3jPN+M6Ccd035jNgCjrEAA8oxl5JPhC3gPAswoJx3TfmM2AKOsQADyjGXkk+ELeA8CzCgnHdN+YzYAo6xAAPKMZeST4Qt4DwLMKCcd035jNgCjrEAA8oxl5JPhC3gPAswoJx3TfmM2AKOsQADyjGXkk+ELeA8C/x/y44Evga7PyIAAAAASUVORK5CYII=)\n",
    "\n",
    "             # of True Negatives: \t 106 \n",
    "             # of False Positives: \t 32 \n",
    "             # of False Negatives: \t 13 \n",
    "             # of True Positives: \t 126 \n",
    "\n",
    ">**Confusion Matrix with Naive Bayes/BOW is:**\n",
    "\n",
    "![image.png](data:image/png;base64,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)\n",
    "\n",
    "            # of True Negatives:    106 \n",
    "            # of False Positives:   32 \n",
    "            # of False Negatives:   23 \n",
    "            # of True Positives:   116 \n",
    "\n",
    " >**Classification report with SGD/TF-IDF/Bi-gram is:**\n",
    "\n",
    "                  precision    recall  f1-score   support\n",
    "\n",
    "             neg       0.89      0.77      0.82       138\n",
    "             pos       0.80      0.91      0.85       139\n",
    "\n",
    "        accuracy                           0.84       277\n",
    "       macro avg       0.84      0.84      0.84       277\n",
    "    weighted avg       0.84      0.84      0.84       277\n",
    "\n",
    "\n",
    " >**Classification report with Naive Bayes/BOW is:**\n",
    "\n",
    "                  precision    recall  f1-score   support\n",
    "\n",
    "             neg       0.82      0.77      0.79       138\n",
    "             pos       0.78      0.83      0.81       139\n",
    "\n",
    "        accuracy                           0.80       277\n",
    "       macro avg       0.80      0.80      0.80       277\n",
    "    weighted avg       0.80      0.80      0.80       277\n",
    "\n",
    "\n",
    "**References:**\n",
    "\n",
    "Singh, P., 2019. *Fundamentals of bag of words and tf-idf*   [Online]. Available from: https://medium.com/analytics-vidhya/fundamentals-of-bag-of-words-and-tf-idf-9846d301ff22 [Accessed 08 April 2021].\n",
    "\n",
    "Islam, M. M., Sultana, N., 2018. Comparative Study on Machine Learning Algorithms for Sentiment Classification. *International Journal of Computer Applications*, 182(21), pp.3-5."
   ]
  },
  {
   "cell_type": "code",
   "execution_count": 11,
   "metadata": {
    "colab": {
     "base_uri": "https://localhost:8080/",
     "height": 1000
    },
    "id": "K9-K09B7zYJf",
    "outputId": "c312f249-de61-436c-f438-13f6d2748e54"
   },
   "outputs": [
    {
     "name": "stdout",
     "output_type": "stream",
     "text": [
      "\u001b[1m X_test accuracy with SGD/TF-IDF/Bi-gram is: \u001b[0m 0.838\n",
      "\u001b[1m X_test accuracy with Naive Bayes is: \u001b[0m 0.801 \n",
      "\n",
      "\u001b[1m Confusion Matrix with SGD/TF-IDF/Bi-gram is: \n",
      " \u001b[0m\n"
     ]
    },
    {
     "data": {
      "image/png": "[encoded data removed]",
      "text/plain": [
       "<Figure size 288x180 with 2 Axes>"
      ]
     },
     "metadata": {},
     "output_type": "display_data"
    },
    {
     "name": "stdout",
     "output_type": "stream",
     "text": [
      " \t # of True Negatives \t: 106 \n",
      " \t # of False Positives \t: 32 \n",
      " \t # of False Negatives \t: 13 \n",
      " \t # of True Positives \t: 126 \n",
      "\n",
      "\u001b[1m Confusion Matrix with Naive Bayes/BOW is: \n",
      " \u001b[0m\n"
     ]
    },
    {
     "data": {
      "image/png": "[encoded data removed]",
      "text/plain": [
       "<Figure size 288x180 with 2 Axes>"
      ]
     },
     "metadata": {},
     "output_type": "display_data"
    },
    {
     "name": "stdout",
     "output_type": "stream",
     "text": [
      "\t # of True Negatives \t: 106 \n",
      " \t # of False Positives \t: 32 \n",
      " \t # of False Negatives \t: 23 \n",
      " \t # of True Positives \t: 116 \n",
      "\n",
      "\u001b[1m Classification report with SGD/TF-IDF/Bi-gram is: \n",
      " \u001b[0m               precision    recall  f1-score   support\n",
      "\n",
      "         neg       0.89      0.77      0.82       138\n",
      "         pos       0.80      0.91      0.85       139\n",
      "\n",
      "    accuracy                           0.84       277\n",
      "   macro avg       0.84      0.84      0.84       277\n",
      "weighted avg       0.84      0.84      0.84       277\n",
      "\n",
      "\u001b[1m Classification report with Naive Bayes/BOW is: \n",
      " \u001b[0m               precision    recall  f1-score   support\n",
      "\n",
      "         neg       0.82      0.77      0.79       138\n",
      "         pos       0.78      0.83      0.81       139\n",
      "\n",
      "    accuracy                           0.80       277\n",
      "   macro avg       0.80      0.80      0.80       277\n",
      "weighted avg       0.80      0.80      0.80       277\n",
      "\n"
     ]
    }
   ],
   "source": [
    "### Comparison of two classifier Naive Bayes with BOW and SGD with TF-IDF & N-gram ###\n",
    "\n",
    "# first vectorize X_train_sgd and then encode X_test_sgd and X_validation_sgd accordingly\n",
    "# so that we dropped words which are not in training set from test and validation sets\n",
    "# create binary vectorizer using Tf-Idf for better performance\n",
    "vectorizer_sgd = TfidfVectorizer(binary=True, ngram_range=(1, 2), max_features=200000)\n",
    "vectorizer_sgd.fit(X_train_df)\n",
    "X_train_sgd = vectorizer_sgd.transform(X_train_df).toarray()\n",
    "X_test_sgd = vectorizer_sgd.transform(X_test_df).toarray()\n",
    "y_train_sgd, y_test_sgd = y_train_df, y_test_df\n",
    "\n",
    "# train the SGD classifier with only the training data\n",
    "sgd = SGDClassifier(random_state=42)\n",
    "sgd.fit(X_train_sgd, y_train_sgd)\n",
    "\n",
    "# calculate test accuracy for SGD\n",
    "predictions2 = sgd.predict(X_test_sgd)\n",
    "accuracy2 = round(np.count_nonzero(predictions2 == y_test_sgd)/y_test_sgd.shape[0], 3)\n",
    "print(\"\\033[1m\", \"X_test accuracy with SGD/TF-IDF/Bi-gram is:\", \"\\033[0m\", accuracy2)\n",
    "\n",
    "# print the accuracy for the old algorithm for the comparison\n",
    "print(\"\\033[1m\", \"X_test accuracy with Naive Bayes is:\", \"\\033[0m\", accuracy1, \"\\n\")\n",
    "\n",
    "# create a confusion matrix for the improved algorithm\n",
    "my_confusion_matrix2 = confusion_matrix(y_test_sgd, predictions2)\n",
    "print(\"\\033[1m\", \"Confusion Matrix with SGD/TF-IDF/Bi-gram is: \\n\", \"\\033[0m\")\n",
    "df_cm = pd.DataFrame(my_confusion_matrix2, ['neg', 'pos'], ['neg', 'pos'])\n",
    "plt.figure(figsize=(4,2.5))\n",
    "sn.set(font_scale=1.4) # for label size\n",
    "sn.heatmap(df_cm, annot=True, annot_kws={\"size\": 16}, fmt='g') # font size\n",
    "plt.ylabel('Actual')\n",
    "plt.xlabel('Predicted')\n",
    "plt.show()\n",
    "\n",
    "# precision, recall and f1 scores calculations for the improved algorithm\n",
    "precision_score_ = precision_score(y_test_sgd, predictions2, pos_label=\"neg\")\n",
    "tn2, fn2, fp2, tp2 = my_confusion_matrix2[0, 0], my_confusion_matrix2[0, 1], my_confusion_matrix2[1, 0], my_confusion_matrix2[1, 1]\n",
    "print(\" \\t # of True Negatives \\t:\", tn2, \"\\n \\t # of False Positives \\t:\", fn2, \"\\n \\t # of False Negatives \\t:\", fp2, \"\\n \\t # of True Positives \\t:\", tp2, \"\\n\")\n",
    "\n",
    "# print confusion matrix, precision, recall, f1 scores for the old algorithm\n",
    "print(\"\\033[1m\", \"Confusion Matrix with Naive Bayes/BOW is: \\n\", \"\\033[0m\")\n",
    "df_cm = pd.DataFrame(my_confusion_matrix1, ['neg', 'pos'], ['neg', 'pos'])\n",
    "plt.figure(figsize=(4,2.5))\n",
    "sn.set(font_scale=1.4) # for label size\n",
    "sn.heatmap(df_cm, annot=True, annot_kws={\"size\": 16}, fmt='g') # font size\n",
    "plt.ylabel('Actual')\n",
    "plt.xlabel('Predicted')\n",
    "plt.show()\n",
    "print(\"\\t # of True Negatives \\t:\", tn1, \"\\n \\t # of False Positives \\t:\", fn1, \"\\n \\t # of False Negatives \\t:\", fp1, \"\\n \\t # of True Positives \\t:\", tp1, \"\\n\")\n",
    "\n",
    "# classification report for precision, recall f1-score and accuracy\n",
    "matrix2 = classification_report(y_test_sgd, predictions2, labels=[\"neg\", \"pos\"])\n",
    "print(\"\\033[1m\", 'Classification report with SGD/TF-IDF/Bi-gram is: \\n', \"\\033[0m\", matrix2)\n",
    "\n",
    "# print classification report for the old algorithm\n",
    "print(\"\\033[1m\", 'Classification report with Naive Bayes/BOW is: \\n', \"\\033[0m\", matrix1)"
   ]
  }
 ],
 "metadata": {
  "colab": {
   "collapsed_sections": [],
   "name": "car_review_NB-rev.ipynb",
   "provenance": []
  },
  "kernelspec": {
   "display_name": "Python 3",
   "language": "python",
   "name": "python3"
  },
  "language_info": {
   "codemirror_mode": {
    "name": "ipython",
    "version": 3
   },
   "file_extension": ".py",
   "mimetype": "text/x-python",
   "name": "python",
   "nbconvert_exporter": "python",
   "pygments_lexer": "ipython3",
   "version": "3.8.5"
  }
 },
 "nbformat": 4,
 "nbformat_minor": 1
}
